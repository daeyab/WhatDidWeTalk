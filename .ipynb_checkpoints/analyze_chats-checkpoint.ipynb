{
 "cells": [
  {
   "cell_type": "code",
   "execution_count": 2,
   "metadata": {},
   "outputs": [],
   "source": [
    "import os\n",
    "from pathlib import Path\n",
    "import pymysql\n",
    "import re\n",
    "from datetime import datetime\n",
    "\n",
    "from datetime import time\n",
    "\n",
    "import seaborn as sns\n",
    "import numpy as np\n",
    "import matplotlib\n",
    "import matplotlib.pyplot as plt\n",
    "import pandas as pd\n",
    "\n",
    "\n",
    "DATABASE_NAME = \"chatings\"\n",
    "HOST_NAME = \"localhost\"\n",
    "USER_ID = \"root\"\n",
    "USER_PASSWORD = \"rootPW1!\"\n",
    "CHARSET = \"utf8\"\n",
    "TXT_FOLDER_PATH = \"chats\""
   ]
  },
  {
   "cell_type": "code",
   "execution_count": 3,
   "metadata": {},
   "outputs": [],
   "source": [
    "conn = pymysql.connect(host=HOST_NAME, user=USER_ID, passwd=USER_PASSWORD, charset=CHARSET)\n",
    "cursor = conn.cursor()"
   ]
  },
  {
   "cell_type": "code",
   "execution_count": 4,
   "metadata": {},
   "outputs": [],
   "source": [
    "sql = 'USE %s ;'%DATABASE_NAME\n",
    "cursor.execute(sql)\n",
    "conn.commit()"
   ]
  },
  {
   "cell_type": "code",
   "execution_count": 5,
   "metadata": {},
   "outputs": [],
   "source": [
    "sql = 'SELECT * FROM indexes;'\n",
    "cursor.execute(sql)\n",
    "conn.commit()\n",
    "rows=cursor.fetchall()"
   ]
  },
  {
   "cell_type": "code",
   "execution_count": 6,
   "metadata": {},
   "outputs": [],
   "source": [
    "ls=[]"
   ]
  },
  {
   "cell_type": "code",
   "execution_count": 7,
   "metadata": {
    "scrolled": true
   },
   "outputs": [],
   "source": [
    "for row in rows :\n",
    "    if row[1]<10:\n",
    "        table_name = str(row[0])+'0'+str(row[1])\n",
    "    else:\n",
    "        table_name = str(row[0])+str(row[1])\n",
    "    sql='SELECT * FROM %schats;' %table_name\n",
    "    cursor.execute(sql)\n",
    "    conn.commit()\n",
    "    results = cursor.fetchall()\n",
    "    for result in results:\n",
    "#         print(result)\n",
    "        item = [result[0], result[0].year, result[0].month, result[0].day, result[0].hour, result[0].minute, result[1], result[2]]\n",
    "        ls.append(item)"
   ]
  },
  {
   "cell_type": "code",
   "execution_count": 15,
   "metadata": {},
   "outputs": [],
   "source": [
    "df_origin = pd.DataFrame(ls,columns=['time','year','month','day','hour','minute','sender','message'])"
   ]
  },
  {
   "cell_type": "code",
   "execution_count": 16,
   "metadata": {},
   "outputs": [
    {
     "data": {
      "text/html": [
       "<div>\n",
       "<style scoped>\n",
       "    .dataframe tbody tr th:only-of-type {\n",
       "        vertical-align: middle;\n",
       "    }\n",
       "\n",
       "    .dataframe tbody tr th {\n",
       "        vertical-align: top;\n",
       "    }\n",
       "\n",
       "    .dataframe thead th {\n",
       "        text-align: right;\n",
       "    }\n",
       "</style>\n",
       "<table border=\"1\" class=\"dataframe\">\n",
       "  <thead>\n",
       "    <tr style=\"text-align: right;\">\n",
       "      <th></th>\n",
       "      <th>time</th>\n",
       "      <th>year</th>\n",
       "      <th>month</th>\n",
       "      <th>day</th>\n",
       "      <th>hour</th>\n",
       "      <th>minute</th>\n",
       "      <th>sender</th>\n",
       "      <th>message</th>\n",
       "    </tr>\n",
       "  </thead>\n",
       "  <tbody>\n",
       "    <tr>\n",
       "      <th>0</th>\n",
       "      <td>2018-05-23 00:05:00</td>\n",
       "      <td>2018</td>\n",
       "      <td>5</td>\n",
       "      <td>23</td>\n",
       "      <td>0</td>\n",
       "      <td>5</td>\n",
       "      <td>A</td>\n",
       "      <td>ㅜㅠㅠㅠㅠ</td>\n",
       "    </tr>\n",
       "    <tr>\n",
       "      <th>1</th>\n",
       "      <td>2018-05-23 00:05:00</td>\n",
       "      <td>2018</td>\n",
       "      <td>5</td>\n",
       "      <td>23</td>\n",
       "      <td>0</td>\n",
       "      <td>5</td>\n",
       "      <td>A</td>\n",
       "      <td>안돼</td>\n",
       "    </tr>\n",
       "    <tr>\n",
       "      <th>2</th>\n",
       "      <td>2018-05-23 00:05:00</td>\n",
       "      <td>2018</td>\n",
       "      <td>5</td>\n",
       "      <td>23</td>\n",
       "      <td>0</td>\n",
       "      <td>5</td>\n",
       "      <td>A</td>\n",
       "      <td>의진이야 ㅠㅠㅠㅠ</td>\n",
       "    </tr>\n",
       "    <tr>\n",
       "      <th>3</th>\n",
       "      <td>2018-05-23 00:05:00</td>\n",
       "      <td>2018</td>\n",
       "      <td>5</td>\n",
       "      <td>23</td>\n",
       "      <td>0</td>\n",
       "      <td>5</td>\n",
       "      <td>A</td>\n",
       "      <td>자냐</td>\n",
       "    </tr>\n",
       "    <tr>\n",
       "      <th>4</th>\n",
       "      <td>2018-05-23 00:06:00</td>\n",
       "      <td>2018</td>\n",
       "      <td>5</td>\n",
       "      <td>23</td>\n",
       "      <td>0</td>\n",
       "      <td>6</td>\n",
       "      <td>B</td>\n",
       "      <td>ㅋㅋㅋㅋㅋㅋ</td>\n",
       "    </tr>\n",
       "    <tr>\n",
       "      <th>...</th>\n",
       "      <td>...</td>\n",
       "      <td>...</td>\n",
       "      <td>...</td>\n",
       "      <td>...</td>\n",
       "      <td>...</td>\n",
       "      <td>...</td>\n",
       "      <td>...</td>\n",
       "      <td>...</td>\n",
       "    </tr>\n",
       "    <tr>\n",
       "      <th>774285</th>\n",
       "      <td>2021-07-07 00:21:00</td>\n",
       "      <td>2021</td>\n",
       "      <td>7</td>\n",
       "      <td>7</td>\n",
       "      <td>0</td>\n",
       "      <td>21</td>\n",
       "      <td>B</td>\n",
       "      <td>ㅋㅋㅋㅋㅋㅋㅋㅋㅋㅋㅋㅋㅋㅋㅋㅋ</td>\n",
       "    </tr>\n",
       "    <tr>\n",
       "      <th>774286</th>\n",
       "      <td>2021-07-07 00:21:00</td>\n",
       "      <td>2021</td>\n",
       "      <td>7</td>\n",
       "      <td>7</td>\n",
       "      <td>0</td>\n",
       "      <td>21</td>\n",
       "      <td>B</td>\n",
       "      <td>ㅋㅋㅋㅋㅋㅋㅋㅋㅋㅋㅋㅋㅋㅋㅋㅋㅋㅋㅋㅋㅋㅋㅋㅋㅋㅋㅋ</td>\n",
       "    </tr>\n",
       "    <tr>\n",
       "      <th>774287</th>\n",
       "      <td>2021-07-07 00:21:00</td>\n",
       "      <td>2021</td>\n",
       "      <td>7</td>\n",
       "      <td>7</td>\n",
       "      <td>0</td>\n",
       "      <td>21</td>\n",
       "      <td>B</td>\n",
       "      <td>뿅</td>\n",
       "    </tr>\n",
       "    <tr>\n",
       "      <th>774288</th>\n",
       "      <td>2021-07-07 00:21:00</td>\n",
       "      <td>2021</td>\n",
       "      <td>7</td>\n",
       "      <td>7</td>\n",
       "      <td>0</td>\n",
       "      <td>21</td>\n",
       "      <td>B</td>\n",
       "      <td>사랑해 자기야</td>\n",
       "    </tr>\n",
       "    <tr>\n",
       "      <th>774289</th>\n",
       "      <td>2021-07-07 00:21:00</td>\n",
       "      <td>2021</td>\n",
       "      <td>7</td>\n",
       "      <td>7</td>\n",
       "      <td>0</td>\n",
       "      <td>21</td>\n",
       "      <td>B</td>\n",
       "      <td>웅웅 안뇽</td>\n",
       "    </tr>\n",
       "  </tbody>\n",
       "</table>\n",
       "<p>774290 rows × 8 columns</p>\n",
       "</div>"
      ],
      "text/plain": [
       "                      time  year  month  day  hour  minute sender  \\\n",
       "0      2018-05-23 00:05:00  2018      5   23     0       5      A   \n",
       "1      2018-05-23 00:05:00  2018      5   23     0       5      A   \n",
       "2      2018-05-23 00:05:00  2018      5   23     0       5      A   \n",
       "3      2018-05-23 00:05:00  2018      5   23     0       5      A   \n",
       "4      2018-05-23 00:06:00  2018      5   23     0       6      B   \n",
       "...                    ...   ...    ...  ...   ...     ...    ...   \n",
       "774285 2021-07-07 00:21:00  2021      7    7     0      21      B   \n",
       "774286 2021-07-07 00:21:00  2021      7    7     0      21      B   \n",
       "774287 2021-07-07 00:21:00  2021      7    7     0      21      B   \n",
       "774288 2021-07-07 00:21:00  2021      7    7     0      21      B   \n",
       "774289 2021-07-07 00:21:00  2021      7    7     0      21      B   \n",
       "\n",
       "                            message  \n",
       "0                             ㅜㅠㅠㅠㅠ  \n",
       "1                                안돼  \n",
       "2                         의진이야 ㅠㅠㅠㅠ  \n",
       "3                               자냐   \n",
       "4                            ㅋㅋㅋㅋㅋㅋ  \n",
       "...                             ...  \n",
       "774285             ㅋㅋㅋㅋㅋㅋㅋㅋㅋㅋㅋㅋㅋㅋㅋㅋ  \n",
       "774286  ㅋㅋㅋㅋㅋㅋㅋㅋㅋㅋㅋㅋㅋㅋㅋㅋㅋㅋㅋㅋㅋㅋㅋㅋㅋㅋㅋ  \n",
       "774287                            뿅  \n",
       "774288                      사랑해 자기야  \n",
       "774289                        웅웅 안뇽  \n",
       "\n",
       "[774290 rows x 8 columns]"
      ]
     },
     "execution_count": 16,
     "metadata": {},
     "output_type": "execute_result"
    }
   ],
   "source": [
    "df_origin"
   ]
  },
  {
   "cell_type": "code",
   "execution_count": 17,
   "metadata": {},
   "outputs": [],
   "source": [
    "def autopct_generator(limit):\n",
    "    def inner_autopct(pct):\n",
    "        return ('%.2f%%' % pct) if pct > limit else ''\n",
    "    return inner_autopct"
   ]
  },
  {
   "cell_type": "code",
   "execution_count": 27,
   "metadata": {},
   "outputs": [],
   "source": [
    "def label_generator(data, limit):\n",
    "    ls=[]\n",
    "    for i in range(len(data)):\n",
    "        if (data[i]*100/np.sum(data)) > limit :\n",
    "            ls.append(data[i])\n",
    "        else:\n",
    "            ls.append('')\n",
    "    return ls"
   ]
  },
  {
   "cell_type": "code",
   "execution_count": 33,
   "metadata": {},
   "outputs": [],
   "source": [
    "def printPie(dic, title,exp=0.03, fig=[12,6], min_pct=0):\n",
    "    plt.rc('font', family='NanumSquare_ac')\n",
    "    fig, ax = plt.subplots(figsize=fig)\n",
    "    plt.pie(x=dic.values(), autopct=autopct_generator(min_pct), explode=[exp]*len(dic.keys()), \n",
    "            labels=label_generator(list(dic.keys()),min_pct))\n",
    "    plt.title(title, fontsize=14);"
   ]
  },
  {
   "cell_type": "code",
   "execution_count": 34,
   "metadata": {},
   "outputs": [],
   "source": [
    "def printPies(dics, title,exp=0.03, fig=[12,6], min_pct=0):\n",
    "    plt.rc('font', family='NanumSquare_ac')\n",
    "    fig, ax = plt.subplots(figsize=fig)\n",
    "    for dic in dics:\n",
    "        plt.pie(x=dic.values(), autopct=autopct_generator(min_pct), explode=[exp]*len(dic.keys()), labels=dic.keys())\n",
    "    plt.title(title, fontsize=14);"
   ]
  },
  {
   "cell_type": "code",
   "execution_count": 35,
   "metadata": {},
   "outputs": [],
   "source": [
    "def makeDict(df, col):\n",
    "    k=np.sort(df[col].unique())\n",
    "    v=[0 for _ in range(len(k))]\n",
    "    for data in df[col]:\n",
    "        i=list(k).index(data)\n",
    "        v[i]+=1\n",
    "    dic=dict(zip(k,v))\n",
    "    return dic"
   ]
  },
  {
   "cell_type": "code",
   "execution_count": 31,
   "metadata": {},
   "outputs": [],
   "source": [
    "weekdays=['Mon','Tue','Wed','Thu','Fri','Sat','Sun']\n",
    "weekdays_cnt=[0 for _ in range(7)]\n",
    "for t in df_origin['time']:\n",
    "    name=t.strftime('%a')\n",
    "    i=weekdays.index(name)\n",
    "    weekdays_cnt[i]+=1"
   ]
  },
  {
   "cell_type": "code",
   "execution_count": null,
   "metadata": {},
   "outputs": [],
   "source": []
  },
  {
   "cell_type": "code",
   "execution_count": 38,
   "metadata": {},
   "outputs": [
    {
     "data": {
      "text/plain": [
       "dict_keys"
      ]
     },
     "execution_count": 38,
     "metadata": {},
     "output_type": "execute_result"
    }
   ],
   "source": [
    "d = dict(zip(weekdays, weekdays_cnt))\n",
    "printPie(d, '요일 별 카카오톡 비율')"
   ]
  },
  {
   "cell_type": "code",
   "execution_count": 23,
   "metadata": {},
   "outputs": [
    {
     "data": {
      "image/png": "[encoded data removed]",
      "text/plain": [
       "<Figure size 864x432 with 1 Axes>"
      ]
     },
     "metadata": {},
     "output_type": "display_data"
    }
   ],
   "source": [
    "d = makeDict(df_origin,'sender')\n",
    "printPie(d, '사용자 별 카카오톡 비율')"
   ]
  },
  {
   "cell_type": "code",
   "execution_count": 25,
   "metadata": {},
   "outputs": [
    {
     "data": {
      "image/png": "[encoded data removed]",
      "text/plain": [
       "<Figure size 720x720 with 1 Axes>"
      ]
     },
     "metadata": {},
     "output_type": "display_data"
    }
   ],
   "source": [
    "d=makeDict(df_origin,'hour')\n",
    "printPie(d,'시간 별 카카오톡 비율',exp=0.0,fig=[10,10],min_pct=2)"
   ]
  },
  {
   "cell_type": "code",
   "execution_count": null,
   "metadata": {},
   "outputs": [],
   "source": [
    "print(df)"
   ]
  },
  {
   "cell_type": "code",
   "execution_count": null,
   "metadata": {},
   "outputs": [],
   "source": [
    "plt.rc('font', family='NanumSquare_ac')\n",
    "fig, ax = plt.subplots(figsize=(12,6))\n",
    "g = sns.kdeplot(df['time'][(df['sender'] == 'A')], color='red', shade = True)\n",
    "g = sns.kdeplot(df['time'][(df['sender'] == 'B')],shade = True)\n",
    "g.set_xlabel(\"시각\")\n",
    "g.set_ylabel(\"빈도 수\")\n",
    "plt.title(\"전체 채팅 분포 비율\")\n",
    "g = g.legend([\"A\",'B'])"
   ]
  },
  {
   "cell_type": "code",
   "execution_count": null,
   "metadata": {
    "scrolled": true
   },
   "outputs": [],
   "source": [
    "df['time'][(df['sender']=='A')]"
   ]
  },
  {
   "cell_type": "code",
   "execution_count": null,
   "metadata": {},
   "outputs": [],
   "source": [
    "plt.rc('font', family='NanumSquare_ac')\n",
    "fig, ax = plt.subplots(figsize=(12,6))\n",
    "sns.set_style('ticks')\n",
    "g=sns.countplot(x='hour', hue='sender',palette='Pastel1', data=df)\n",
    "plt.title('시각에 따른 사용자 별 메세지 전송 수')\n",
    "plt.show()"
   ]
  },
  {
   "cell_type": "code",
   "execution_count": null,
   "metadata": {},
   "outputs": [],
   "source": [
    "plt.rc('font', family='NanumSquare_ac')\n",
    "fig, ax = plt.subplots(figsize=(12,6))\n",
    "sns.set_style('ticks')\n",
    "g=sns.countplot(x='hour',palette='Pastel1', data=df)\n",
    "plt.title('시각에 따른 메세지 전송 수')\n",
    "plt.show()"
   ]
  },
  {
   "cell_type": "code",
   "execution_count": null,
   "metadata": {},
   "outputs": [],
   "source": [
    "plt.rc('font', family='NanumSquare_ac')\n",
    "fig, ax = plt.subplots(figsize=(12,6))\n",
    "sns.set_style('ticks')\n",
    "g=sns.countplot(x='year',palette='Pastel1', data=df)\n",
    "plt.title('년도에 따른 메세지 전송 수')\n",
    "plt.show()"
   ]
  },
  {
   "cell_type": "code",
   "execution_count": null,
   "metadata": {},
   "outputs": [],
   "source": [
    "plt.rc('font', family='NanumSquare_ac')\n",
    "fig, ax = plt.subplots(figsize=(12,6))\n",
    "lables = df['time']."
   ]
  }
 ],
 "metadata": {
  "kernelspec": {
   "display_name": "Python 3",
   "language": "python",
   "name": "python3"
  },
  "language_info": {
   "codemirror_mode": {
    "name": "ipython",
    "version": 3
   },
   "file_extension": ".py",
   "mimetype": "text/x-python",
   "name": "python",
   "nbconvert_exporter": "python",
   "pygments_lexer": "ipython3",
   "version": "3.8.5"
  }
 },
 "nbformat": 4,
 "nbformat_minor": 4
}
