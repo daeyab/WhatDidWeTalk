{
 "cells": [
  {
   "cell_type": "code",
   "execution_count": 1,
   "metadata": {},
   "outputs": [],
   "source": [
    "import os\n",
    "from pathlib import Path\n",
    "import pymysql\n",
    "import re\n",
    "from datetime import datetime\n",
    "from palettable.colorbrewer.qualitative import Pastel1_7\n",
    "from datetime import time\n",
    "import seaborn as sns\n",
    "import numpy as np\n",
    "import matplotlib\n",
    "from konlpy.tag import Kkma\n",
    "import matplotlib.pyplot as plt\n",
    "import pandas as pd\n",
    "\n",
    "\n",
    "DATABASE_NAME = \"chats\"\n",
    "HOST_NAME = \"localhost\"\n",
    "USER_ID = \"root\"\n",
    "USER_PASSWORD = \"rootPW1!\"\n",
    "CHARSET = \"utf8\"\n",
    "TXT_FOLDER_PATH = \"chats\""
   ]
  },
  {
   "cell_type": "code",
   "execution_count": 2,
   "metadata": {},
   "outputs": [],
   "source": [
    "conn = pymysql.connect(host=HOST_NAME, user=USER_ID, passwd=USER_PASSWORD, charset=CHARSET)\n",
    "cursor = conn.cursor()"
   ]
  },
  {
   "cell_type": "code",
   "execution_count": 3,
   "metadata": {},
   "outputs": [],
   "source": [
    "sql = 'USE %s ;'%DATABASE_NAME\n",
    "cursor.execute(sql)\n",
    "conn.commit()"
   ]
  },
  {
   "cell_type": "code",
   "execution_count": 4,
   "metadata": {},
   "outputs": [],
   "source": [
    "sql = 'SELECT * FROM indexes;'\n",
    "cursor.execute(sql)\n",
    "conn.commit()\n",
    "rows=cursor.fetchall()"
   ]
  },
  {
   "cell_type": "code",
   "execution_count": 5,
   "metadata": {
    "scrolled": true
   },
   "outputs": [],
   "source": [
    "ls=[]\n",
    "for row in rows :\n",
    "    if row[1]<10:\n",
    "        table_name = str(row[0])+'0'+str(row[1])\n",
    "    else:\n",
    "        table_name = str(row[0])+str(row[1])\n",
    "    sql='SELECT * FROM %schats;' %table_name\n",
    "    cursor.execute(sql)\n",
    "    conn.commit()\n",
    "    results = cursor.fetchall()\n",
    "    for result in results:\n",
    "#         print(result)\n",
    "        item = [result[0], result[0].year, result[0].month, result[0].day, result[0].hour, result[0].minute, result[1], result[2]]\n",
    "        ls.append(item)"
   ]
  },
  {
   "cell_type": "code",
   "execution_count": 6,
   "metadata": {},
   "outputs": [],
   "source": [
    "df_origin = pd.DataFrame(ls,columns=['time','year','month','day','hour','minute','sender','message'])"
   ]
  },
  {
   "cell_type": "code",
   "execution_count": null,
   "metadata": {},
   "outputs": [],
   "source": [
    "def autopct_generator(limit):\n",
    "    def inner_autopct(pct):\n",
    "        return ('%.2f%%' % pct) if pct > limit else ''\n",
    "    return inner_autopct"
   ]
  },
  {
   "cell_type": "code",
   "execution_count": null,
   "metadata": {},
   "outputs": [],
   "source": [
    "def label_generator(dic, limit):\n",
    "    new_values=[]\n",
    "    keys=dic.keys()\n",
    "    values=dic.values()\n",
    "    total=np.sum(list(values))\n",
    "    for i in range(len(keys)):\n",
    "        if (list(values)[i]*100/total) > limit:\n",
    "            new_values.append(list(keys)[i])\n",
    "        else :\n",
    "            new_values.append('')\n",
    "    return new_values"
   ]
  },
  {
   "cell_type": "code",
   "execution_count": null,
   "metadata": {},
   "outputs": [],
   "source": [
    "def printPie(dic, title,exp=0.03, fig=[12,6], min_pct=0):\n",
    "    plt.rc('font', family='NanumSquare_ac')\n",
    "    fig, ax = plt.subplots(figsize=fig)\n",
    "    # Create a circle at the center of the plot\n",
    "    my_circle = plt.Circle( (0,0), 0.7, color='white')\n",
    "    plt.pie(x=dic.values(), autopct=autopct_generator(min_pct), explode=[exp]*len(dic.keys()), \n",
    "            labels=label_generator(dic,min_pct),colors=Pastel1_7.hex_colors)\n",
    "    p = plt.gcf()\n",
    "    p.gca().add_artist(my_circle)\n",
    "    plt.title(title, fontsize=14);"
   ]
  },
  {
   "cell_type": "code",
   "execution_count": null,
   "metadata": {},
   "outputs": [],
   "source": [
    "def printPies(dics,main_title, titles, row, cols, exp=0.03,colsfig=[12,6], min_pct=0):\n",
    "    plt.rc('font', family='NanumSquare_ac')\n",
    "    axs = [0 for _ in range(row*col)] \n",
    "    fig, = plt.subplots(2,2)\n",
    "    for i,dic in enumerate(dics):\n",
    "        plt.figure(i)\n",
    "        plt.pie(x=dic.values(), autopct=autopct_generator(min_pct), explode=[exp]*len(dic.keys()), \n",
    "                labels=label_generator(dic,min_pct))\n",
    "        plt.title(title, fontsize=14);\n",
    "    plt.show()"
   ]
  },
  {
   "cell_type": "code",
   "execution_count": null,
   "metadata": {},
   "outputs": [],
   "source": [
    "def makeDict(df, col):\n",
    "    k=np.sort(df[col].unique())\n",
    "    v=[0 for _ in range(len(k))]\n",
    "    for data in df[col]:\n",
    "        i=list(k).index(data)\n",
    "        v[i]+=1\n",
    "    dic=dict(zip(k,v))\n",
    "    return dic"
   ]
  },
  {
   "cell_type": "code",
   "execution_count": null,
   "metadata": {},
   "outputs": [],
   "source": [
    "weekdays=['Mon','Tue','Wed','Thu','Fri','Sat','Sun']\n",
    "weekdays_cnt=[0 for _ in range(7)]\n",
    "for t in df_origin['time']:\n",
    "    name=t.strftime('%a')\n",
    "    i=weekdays.index(name)\n",
    "    weekdays_cnt[i]+=1\n",
    "d = dict(zip(weekdays, weekdays_cnt))\n",
    "printPie(d, '요일 별 카카오톡 비율')\n",
    "del d,weekdays,weekdays_cnt"
   ]
  },
  {
   "cell_type": "code",
   "execution_count": null,
   "metadata": {},
   "outputs": [],
   "source": [
    "d = makeDict(df_origin,'sender')\n",
    "printPie(d,'사용자 별 카카오톡 비율')\n",
    "del d"
   ]
  },
  {
   "cell_type": "code",
   "execution_count": null,
   "metadata": {
    "scrolled": true
   },
   "outputs": [],
   "source": [
    "d=makeDict(df_origin,'hour')\n",
    "printPie(d,'시간 별 카카오톡 비율',min_pct=2)\n",
    "del d"
   ]
  },
  {
   "cell_type": "code",
   "execution_count": null,
   "metadata": {},
   "outputs": [],
   "source": [
    "def trans_pertentage_dict(dic):\n",
    "    new_dic={}\n",
    "    s = sum(dic.values())\n",
    "    for k, v in dic.items():\n",
    "        pct = v * 100.0 / s\n",
    "        new_dic[k]=pct\n",
    "    return new_dic"
   ]
  },
  {
   "cell_type": "code",
   "execution_count": null,
   "metadata": {},
   "outputs": [],
   "source": [
    "def plot_multilines(df,by, hue, hue_ls,color, title):\n",
    "    plt.rc('font', family='NanumSquare_ac')\n",
    "    fig, ax = plt.subplots(figsize=(12,6))\n",
    "    for i,h in enumerate(hue_ls):\n",
    "        d=makeDict(df[df[hue]==h],by)\n",
    "        d=trans_pertentage_dict(d)\n",
    "        g=sns.lineplot(x=d.keys(),y=d.values(), data=d,color=color[i])\n",
    "    g.set_ylabel(\"빈도 수(%)\")\n",
    "    g.set_xticks(range(len(df[by].unique())))\n",
    "    plt.title(title)\n",
    "    g.legend(hue_ls)"
   ]
  },
  {
   "cell_type": "code",
   "execution_count": null,
   "metadata": {},
   "outputs": [],
   "source": [
    "plot_multilines(df_origin,'hour','year',[2018,2019,2020,2021],['red','orange','green','blue'],\"년도별 채팅 분포 비율\")"
   ]
  },
  {
   "cell_type": "code",
   "execution_count": null,
   "metadata": {},
   "outputs": [],
   "source": [
    "def plot_countplot(df, title, x_name, hue_name=''):\n",
    "    plt.rc('font', family='NanumSquare_ac')\n",
    "    fig, ax = plt.subplots(figsize=(12,6))\n",
    "    sns.set_style('ticks')\n",
    "    if hue_name!='':\n",
    "        g=sns.countplot(x=x_name, hue=hue_name,palette='Pastel1', data=df)\n",
    "    else:\n",
    "        g=sns.countplot(x=x_name,palette='Pastel1', data=df)\n",
    "    plt.title(title)\n",
    "    plt.show() "
   ]
  },
  {
   "cell_type": "code",
   "execution_count": null,
   "metadata": {},
   "outputs": [],
   "source": [
    "plot_countplot(df_origin, '시각에 따른 사용자 별 메세지 전송 수', 'hour','sender')"
   ]
  },
  {
   "cell_type": "code",
   "execution_count": null,
   "metadata": {},
   "outputs": [],
   "source": [
    "plot_countplot(df_origin, '시각에 따른 메세지 전송 수', 'hour')"
   ]
  },
  {
   "cell_type": "code",
   "execution_count": null,
   "metadata": {},
   "outputs": [],
   "source": [
    "nouns_A={}\n",
    "nouns_B={}\n",
    "messages_A=df_origin[df_origin['sender']=='A']['message']\n",
    "messages_B=df_origin[df_origin['sender']=='B']['message']\n",
    "for m in messages_A:\n",
    "    try:\n",
    "        ls=get_noun_counts(m)\n",
    "        for i in ls :\n",
    "            if i in nouns_A:\n",
    "                nouns_A[i]+=1\n",
    "            else:\n",
    "                nouns_A[i]=0\n",
    "    except:\n",
    "        print(m)"
   ]
  },
  {
   "cell_type": "code",
   "execution_count": null,
   "metadata": {},
   "outputs": [],
   "source": [
    "for m in messages_B:\n",
    "    try:\n",
    "        ls=get_noun_counts(m)\n",
    "        for i in ls :\n",
    "            if i in nouns_B:\n",
    "                nouns_B[i]+=1\n",
    "            else:\n",
    "                nouns_B[i]=0\n",
    "    except:\n",
    "        print(m)"
   ]
  },
  {
   "cell_type": "code",
   "execution_count": null,
   "metadata": {
    "scrolled": false
   },
   "outputs": [],
   "source": [
    "nouns_A"
   ]
  },
  {
   "cell_type": "code",
   "execution_count": null,
   "metadata": {},
   "outputs": [],
   "source": [
    "nouns_A.sort(reverse=True)"
   ]
  }
 ],
 "metadata": {
  "kernelspec": {
   "display_name": "Python 3",
   "language": "python",
   "name": "python3"
  },
  "language_info": {
   "codemirror_mode": {
    "name": "ipython",
    "version": 3
   },
   "file_extension": ".py",
   "mimetype": "text/x-python",
   "name": "python",
   "nbconvert_exporter": "python",
   "pygments_lexer": "ipython3",
   "version": "3.8.5"
  }
 },
 "nbformat": 4,
 "nbformat_minor": 4
}
